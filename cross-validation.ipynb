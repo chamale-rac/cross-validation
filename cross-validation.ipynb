{
 "cells": [
  {
   "cell_type": "markdown",
   "metadata": {},
   "source": [
    "# HT 5. Validación Cruzada\n",
    "\n",
    "## Predicción de calidad de vinos en base a características físico-químicas\n",
    "\n",
    "**MINERÍA DE DATOS - SECCIÓN - 20 - 2024 - 1**\n",
    "\n",
    "Samuel Chamalé, 21881\n",
    "\n",
    "Renatto Guzmán, 21646\n",
    "\n",
    "---\n"
   ]
  },
  {
   "cell_type": "markdown",
   "metadata": {},
   "source": [
    "## 1. Exploración y Preprocesamiento de Datos\n"
   ]
  },
  {
   "cell_type": "markdown",
   "metadata": {},
   "source": [
    "### Cargar el conjunto de datos utilizando Pandas.\n"
   ]
  },
  {
   "cell_type": "code",
   "execution_count": 3,
   "metadata": {
    "metadata": {}
   },
   "outputs": [],
   "source": [
    "import pandas as pd\n",
    "import matplotlib.pyplot as plt\n",
    "import seaborn as sns\n",
    "import plotly.express as px\n",
    "from ydata_profiling import ProfileReport"
   ]
  },
  {
   "cell_type": "code",
   "execution_count": 4,
   "metadata": {
    "metadata": {}
   },
   "outputs": [],
   "source": [
    "# Cargar los datos de vinos rojos y blancos\n",
    "path_red = \"wine+quality/winequality-red.csv\"\n",
    "path_white = \"wine+quality/winequality-white.csv\""
   ]
  },
  {
   "cell_type": "code",
   "execution_count": 5,
   "metadata": {
    "metadata": {}
   },
   "outputs": [],
   "source": [
    "# Asumimos que el separador en los archivos CSV es ';'\n",
    "red_wine = pd.read_csv(path_red, sep=';')\n",
    "white_wine = pd.read_csv(path_white, sep=';')"
   ]
  },
  {
   "cell_type": "code",
   "execution_count": 6,
   "metadata": {
    "metadata": {}
   },
   "outputs": [],
   "source": [
    "# Combinar los datasets añadiendo una columna de 'type'\n",
    "red_wine['type'] = 'red'\n",
    "white_wine['type'] = 'white'\n",
    "wine_data = pd.concat([red_wine, white_wine], ignore_index=True)"
   ]
  },
  {
   "cell_type": "markdown",
   "metadata": {},
   "source": [
    "## Realizar un análisis exploratorio de datos (EDA) básico: estadísticas descriptivas,\n",
    "\n",
    "distribución de variables, etc.\n"
   ]
  }
 ],
 "metadata": {
  "kernelspec": {
   "display_name": "Python 3",
   "language": "python",
   "name": "python3"
  },
  "language_info": {
   "codemirror_mode": {
    "name": "ipython",
    "version": 3
   },
   "file_extension": ".py",
   "mimetype": "text/x-python",
   "name": "python",
   "nbconvert_exporter": "python",
   "pygments_lexer": "ipython3",
   "version": "3.11.4"
  }
 },
 "nbformat": 4,
 "nbformat_minor": 2
}
